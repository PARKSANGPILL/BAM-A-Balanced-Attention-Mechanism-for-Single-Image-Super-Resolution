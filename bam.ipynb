{
 "cells": [
  {
   "cell_type": "code",
   "execution_count": null,
   "id": "6deb7878",
   "metadata": {},
   "outputs": [],
   "source": [
    "import tensorflow as tf\n",
    "import tensorflow_addons as tfa"
   ]
  },
  {
   "cell_type": "code",
   "execution_count": null,
   "id": "fd2782c9",
   "metadata": {},
   "outputs": [],
   "source": [
    "def ACAM(inputs):\n",
    "    x = tfa.layers.AdaptiveAveragePooling2D(1)(inputs)\n",
    "    x = tf.keras.layers.Dense(64//16)(x)\n",
    "    x = tf.keras.layers.PReLU()(x)\n",
    "    x = tf.keras.layers.Dense(64)(x)\n",
    "    x = tf.keras.layers.Activation('sigmoid')(x)\n",
    "    return x"
   ]
  },
  {
   "cell_type": "code",
   "execution_count": null,
   "id": "2063d047",
   "metadata": {},
   "outputs": [],
   "source": [
    "def MSAM(inputs):\n",
    "    x = tf.math.reduce_max(inputs, axis=-1, keepdims=True)\n",
    "    x = tf.keras.layers.Conv2D(filters=1, kernel_size=7, strides=1, padding='same', kernel_initializer='he_normal')(x)\n",
    "    x = tf.keras.layers.Activation('sigmoid')(x)\n",
    "    return x"
   ]
  },
  {
   "cell_type": "code",
   "execution_count": null,
   "id": "deba74c9",
   "metadata": {},
   "outputs": [],
   "source": [
    "def BAM(inputs):\n",
    "    ca = ACAM(inputs=inputs)\n",
    "    sa = MSAM(inputs=inputs)\n",
    "    x = sa @ ca\n",
    "    x = x * inputs\n",
    "    return x"
   ]
  }
 ],
 "metadata": {
  "kernelspec": {
   "display_name": "Python 3",
   "language": "python",
   "name": "python3"
  },
  "language_info": {
   "codemirror_mode": {
    "name": "ipython",
    "version": 3
   },
   "file_extension": ".py",
   "mimetype": "text/x-python",
   "name": "python",
   "nbconvert_exporter": "python",
   "pygments_lexer": "ipython3",
   "version": "3.8.8"
  }
 },
 "nbformat": 4,
 "nbformat_minor": 5
}
